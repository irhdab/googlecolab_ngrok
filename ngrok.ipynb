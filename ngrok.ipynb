{
  "nbformat": 4,
  "nbformat_minor": 0,
  "metadata": {
    "colab": {
      "provenance": [],
      "gpuType": "T4",
      "authorship_tag": "ABX9TyNGBZ2Ube//UCOZMCQgQzGw"
    },
    "kernelspec": {
      "name": "python3",
      "display_name": "Python 3"
    },
    "language_info": {
      "name": "python"
    },
    "accelerator": "GPU"
  },
  "cells": [
    {
      "cell_type": "code",
      "source": [
        "import subprocess\n",
        "\n",
        "command = \"pip install pyngrok\"\n",
        "result = subprocess.check_output(command, shell=True, text=True)\n",
        "\n",
        "print(result)"
      ],
      "metadata": {
        "colab": {
          "base_uri": "https://localhost:8080/"
        },
        "id": "oGNP84uUHN71",
        "outputId": "30188b84-a453-47d3-963f-48f549626335"
      },
      "execution_count": 13,
      "outputs": [
        {
          "output_type": "stream",
          "name": "stdout",
          "text": [
            "Collecting pyngrok\n",
            "  Downloading pyngrok-7.2.8-py3-none-any.whl.metadata (10 kB)\n",
            "Requirement already satisfied: PyYAML>=5.1 in /usr/local/lib/python3.11/dist-packages (from pyngrok) (6.0.2)\n",
            "Downloading pyngrok-7.2.8-py3-none-any.whl (25 kB)\n",
            "Installing collected packages: pyngrok\n",
            "Successfully installed pyngrok-7.2.8\n",
            "\n"
          ]
        }
      ]
    },
    {
      "cell_type": "code",
      "source": [
        "import subprocess\n",
        "\n",
        "command = \"dig +short myip.opendns.com @resolver1.opendns.com\"\n",
        "result = subprocess.check_output(command, shell=True, text=True)\n",
        "\n",
        "print(result)"
      ],
      "metadata": {
        "colab": {
          "base_uri": "https://localhost:8080/"
        },
        "id": "2jGH4oIcFKhi",
        "outputId": "b6d92f56-9bf5-472f-bf08-065da7cbe990"
      },
      "execution_count": 11,
      "outputs": [
        {
          "output_type": "stream",
          "name": "stdout",
          "text": [
            "\n"
          ]
        }
      ]
    },
    {
      "cell_type": "code",
      "source": [
        "from IPython.display import HTML\n",
        "import subprocess\n",
        "from pyngrok import ngrok\n",
        "import threading\n",
        "import time\n",
        "import getpass\n",
        "\n",
        "# ngrok auth tokern\n",
        "NGROK_TOKEN = getpass.getpass(\"Ngrok Auth Token (https://dashboard.ngrok.com/get-started/your-authtoken): \")\n",
        "ngrok.set_auth_token(NGROK_TOKEN)\n",
        "\n",
        "# HTML file generation\n",
        "with open(\"index.html\", \"w\") as f:\n",
        "    f.write(\"\"\"<!DOCTYPE html>\n",
        "<html>\n",
        "<head>\n",
        "    <title>Colab Server</title>\n",
        "</head>\n",
        "<body>\n",
        "    <h1>Hello from Colab!</h1>\n",
        "    <p>Real-time ngrok tunneling</p>\n",
        "    <p>you reached this server at: <span id=\"time\"></span></p>\n",
        "    <script>\n",
        "        document.getElementById('time').textContent = new Date().toLocaleString();\n",
        "    </script>\n",
        "</body>\n",
        "</html>\"\"\")\n",
        "\n",
        "# server running\n",
        "def run_server():\n",
        "    subprocess.call([\"python\", \"-m\", \"http.server\", \"8000\"], stderr=subprocess.DEVNULL)\n",
        "\n",
        "server_thread = threading.Thread(target=run_server, daemon=True)\n",
        "server_thread.start()\n",
        "\n",
        "# Ngrok tunneling\n",
        "try:\n",
        "    public_url = ngrok.connect(8000, \"http\")\n",
        "    print(\"\\n server is running great\")\n",
        "    print(f\"public url: {public_url}\")\n",
        "    print(\"\\n this server is terminated when colab is closed\")\n",
        "\n",
        "    # link\n",
        "    display(HTML(f'<a href=\"{public_url}\" target=\"_blank\">access your server</a>'))\n",
        "\n",
        "    # session maintain\n",
        "    while True:\n",
        "        time.sleep(10)\n",
        "except KeyboardInterrupt:\n",
        "    print(\"\\n exitting..\")\n",
        "except Exception as e:\n",
        "    print(f\"error occured: {str(e)}\")\n",
        "finally:\n",
        "    ngrok.kill()"
      ],
      "metadata": {
        "colab": {
          "base_uri": "https://localhost:8080/",
          "height": 178
        },
        "id": "JsFm0ArRFH0N",
        "outputId": "185eeb0e-7961-40ed-8874-e4a1c3eea62e"
      },
      "execution_count": 18,
      "outputs": [
        {
          "output_type": "stream",
          "name": "stdout",
          "text": [
            "Ngrok Auth Token 입력 (https://dashboard.ngrok.com/get-started/your-authtoken): ··········\n",
            "\n",
            " server is running great\n",
            "public url: NgrokTunnel: \"https://3b4b-34-80-167-99.ngrok-free.app\" -> \"http://localhost:8000\"\n",
            "\n",
            " this server is terminated when colab is closed\n"
          ]
        },
        {
          "output_type": "display_data",
          "data": {
            "text/plain": [
              "<IPython.core.display.HTML object>"
            ],
            "text/html": [
              "<a href=\"NgrokTunnel: \"https://3b4b-34-80-167-99.ngrok-free.app\" -> \"http://localhost:8000\"\" target=\"_blank\">access your server</a>"
            ]
          },
          "metadata": {}
        },
        {
          "output_type": "stream",
          "name": "stdout",
          "text": [
            "\n",
            " exitting..\n"
          ]
        }
      ]
    }
  ]
}
